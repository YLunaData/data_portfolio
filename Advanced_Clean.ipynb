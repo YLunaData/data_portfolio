{
  "nbformat": 4,
  "nbformat_minor": 0,
  "metadata": {
    "colab": {
      "provenance": []
    },
    "kernelspec": {
      "name": "python3",
      "display_name": "Python 3"
    },
    "language_info": {
      "name": "python"
    }
  },
  "cells": [
    {
      "cell_type": "code",
      "execution_count": 11,
      "metadata": {
        "colab": {
          "base_uri": "https://localhost:8080/"
        },
        "id": "Hi8aY9OA_C-o",
        "outputId": "31969abd-308d-4a91-954a-8fca04cf4959"
      },
      "outputs": [
        {
          "output_type": "stream",
          "name": "stdout",
          "text": [
            "     Name    Age  Income     Sex        Date\n",
            "0    Ana    25.0  3000.0       F  2022-01-01\n",
            "1    Luis  200.0  4500.0       M  2021-13-01\n",
            "2  carlos   35.0     NaN    Male  2022/02/30\n",
            "3     ANA    NaN  3200.0  female  01-05-2022\n",
            "4     NaN   29.0  3100.0       F        None\n",
            "5    Luis   25.0  3000.0       M  2022-01-01\n",
            "\n",
            "\n",
            "=== Clean Data ===\n",
            "      Name  Age  Income       Date Date_Original   IncomeAge  Sex_M\n",
            "0      Ana   25  3000.0 2022-01-01    2022-01-01  120.000000  False\n",
            "1     Luis   27  4500.0 2021-01-13    2021-13-01  166.666667   True\n",
            "2   Carlos   35  3360.0        NaT    2022/02/30   96.000000   True\n",
            "3      Ana   27  3200.0 2022-05-01    01-05-2022  118.518519  False\n",
            "4  Unknown   29  3100.0        NaT          None  106.896552  False\n",
            "5     Luis   25  3000.0 2022-01-01    2022-01-01  120.000000   True\n"
          ]
        }
      ],
      "source": [
        "import pandas as pd\n",
        "import numpy as np\n",
        "from dateutil import parser\n",
        "\n",
        "# Datos simulados\n",
        "np.random.seed(42)\n",
        "data = pd.DataFrame({\n",
        "    'Name': [' Ana ', 'Luis', 'carlos', 'ANA', np.nan, 'Luis'],\n",
        "    'Age': [25, 200, 35, np.nan, 29, 25],\n",
        "    'Income': [3000, 4500, np.nan, 3200, 3100, 3000],\n",
        "    'Sex': ['F', 'M', 'Male', 'female', 'F', 'M'],\n",
        "    'Date': ['2022-01-01', '2021-13-01', '2022/02/30', '01-05-2022', None, '2022-01-01']\n",
        "})\n",
        "print(data)\n",
        "print()\n",
        "data_c = data.copy()\n",
        "\n",
        "# clean basic\n",
        "data_c['Name'] = data_c['Name'].str.strip().str.title()\n",
        "data_c.loc[(data_c['Age'] > 120) | (data_c['Age'] < 0), 'Age'] = np.nan\n",
        "data_c['Age'] = data_c['Age'].fillna(data_c['Age'].median()).astype(int)\n",
        "data_c['Income'] = data_c['Income'].fillna(data_c['Income'].mean())\n",
        "data_c['Name'] = data_c['Name'].fillna('Unknown')\n",
        "\n",
        "# clean of sex\n",
        "def clean_sex(g):\n",
        "    if isinstance(g, str):\n",
        "        g = g.lower()\n",
        "        if 'f' in g:\n",
        "            return 'F'\n",
        "        elif 'm' in g:\n",
        "            return 'M'\n",
        "    return 'Otro'\n",
        "data_c['Sex'] = data_c['Sex'].apply(clean_sex)\n",
        "\n",
        "# clean of date\n",
        "from datetime import datetime\n",
        "\n",
        "def try_parse_date(value):\n",
        "    if pd.isnull(value):\n",
        "        return pd.NaT\n",
        "    for fmt in (\"%Y-%m-%d\", \"%Y/%m/%d\", \"%d-%m-%Y\", \"%m-%d-%Y\", \"%d/%m/%Y\", \"%Y-%d-%m\"):\n",
        "        try:\n",
        "            return pd.to_datetime(value, format=fmt, errors='raise')\n",
        "        except:\n",
        "            continue\n",
        "    try:\n",
        "        return parser.parse(str(value), fuzzy=True)\n",
        "    except:\n",
        "        return pd.NaT\n",
        "\n",
        "data_c['Date_Original'] = data_c['Date']\n",
        "data_c['Date'] = data_c['Date'].apply(try_parse_date)\n",
        "data_c = data_c.drop_duplicates()\n",
        "data_c['IncomeAge'] = data_c['Income'] / data_c['Age']\n",
        "data_encoded = pd.get_dummies(data_c, columns=['Sex'], drop_first=True)\n",
        "\n",
        "print(\"\\n=== Clean Data ===\")\n",
        "print(data_encoded)\n"
      ]
    }
  ]
}