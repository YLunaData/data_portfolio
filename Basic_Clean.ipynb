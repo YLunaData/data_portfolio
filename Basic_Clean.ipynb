{
  "nbformat": 4,
  "nbformat_minor": 0,
  "metadata": {
    "colab": {
      "provenance": []
    },
    "kernelspec": {
      "name": "python3",
      "display_name": "Python 3"
    },
    "language_info": {
      "name": "python"
    }
  },
  "cells": [
    {
      "cell_type": "code",
      "source": [
        "import pandas as pd\n",
        "import numpy as np\n",
        "\n",
        "# We simulate a data set\n",
        "data = {\n",
        "    'Name': ['  John Doe', 'Jane Smith', '   Mary Johnson', 'Jane Smith', np.nan, 'Luke Skywalker'],\n",
        "    'Age': [28, 34, np.nan, 34, 40, 25],\n",
        "    'Gender': ['male', 'female', 'female', 'female', 'male', 'male'],\n",
        "    'Income': ['3000$', '4500$', '3500$', '4500$', '5000$', '3200$'],\n",
        "    'City': ['New York', 'London', '   Paris', 'London', 'Berlin', 'Paris'],\n",
        "}\n",
        "\n",
        "# Create the DataFrame\n",
        "df = pd.DataFrame(data)\n",
        "\n",
        "# Display the original DataFrame\n",
        "print(\"Datos originales:\")\n",
        "print(df)\n",
        "\n",
        "# Clean up extra spaces in text columns\n",
        "df['Name'] = df['Name'].str.strip()\n",
        "df['City'] = df['City'].str.strip()\n",
        "\n",
        "# Remove duplicates\n",
        "df = df.drop_duplicates()\n",
        "\n",
        "# Format the 'Income' column (remove the dollar sign and convert to numeric)\n",
        "df['Income'] = df['Income'].replace({'\\$': ''}, regex=True).astype(int)\n",
        "\n",
        "# Convert the 'Age' column to an integer\n",
        "df['Age'] = df['Age'].fillna(df['Age'].mean()).astype(int)\n",
        "\n",
        "# Rename columns to make them more readable\n",
        "df = df.rename(columns={'Name': 'FullName', 'Gender': 'Sex'})\n",
        "\n",
        "# Display the clean DataFrame\n",
        "print(\"\\nDatos después de la limpieza:\")\n",
        "print(df)\n"
      ],
      "metadata": {
        "colab": {
          "base_uri": "https://localhost:8080/"
        },
        "id": "sdhjTCUIrK7O",
        "outputId": "c21090c9-28a9-4348-c55c-a7a1f77c60e4"
      },
      "execution_count": 75,
      "outputs": [
        {
          "output_type": "stream",
          "name": "stdout",
          "text": [
            "Datos originales:\n",
            "              Name   Age  Gender Income      City\n",
            "0         John Doe  28.0    male  3000$  New York\n",
            "1       Jane Smith  34.0  female  4500$    London\n",
            "2     Mary Johnson   NaN  female  3500$     Paris\n",
            "3       Jane Smith  34.0  female  4500$    London\n",
            "4              NaN  40.0    male  5000$    Berlin\n",
            "5   Luke Skywalker  25.0    male  3200$     Paris\n",
            "\n",
            "Datos después de la limpieza:\n",
            "         FullName  Age     Sex  Income      City\n",
            "0        John Doe   28    male    3000  New York\n",
            "1      Jane Smith   34  female    4500    London\n",
            "2    Mary Johnson   31  female    3500     Paris\n",
            "4             NaN   40    male    5000    Berlin\n",
            "5  Luke Skywalker   25    male    3200     Paris\n"
          ]
        }
      ]
    }
  ]
}